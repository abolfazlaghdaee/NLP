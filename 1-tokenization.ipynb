{
 "cells": [
  {
   "cell_type": "markdown",
   "id": "bfea2012-259f-4831-9fad-baf8fcc9f791",
   "metadata": {},
   "source": [
    "#### First Session: Tokenization "
   ]
  },
  {
   "cell_type": "code",
   "execution_count": 3,
   "id": "48806d11-4661-4076-95b4-de36bb20ee04",
   "metadata": {},
   "outputs": [],
   "source": [
    "import nltk"
   ]
  },
  {
   "cell_type": "code",
   "execution_count": 4,
   "id": "9426748c-c32a-4e56-b526-3d2b7bb2401e",
   "metadata": {},
   "outputs": [],
   "source": [
    "sample_text = '''Lorem Ipsum is simply dummy text of the printing and typesetting industry. \n",
    "Lorem Ipsum has been the industry's standard dummy text ever since the 1500s,when an unknown printer took a galley of type and scrambled it to make a type specimen book. \n",
    "It has survived not only five centuries, but also the leap into electronic typesetting, remaining essentially unchanged. \n",
    "It was popularised in the 1960s with the release of Letraset sheets containing Lorem Ipsum passages, \n",
    "more recently with desktop publishing software like Aldus PageMaker including versions of Lorem Ipsum.'''"
   ]
  },
  {
   "cell_type": "code",
   "execution_count": 5,
   "id": "17d84b34-50b1-4b8a-b5ff-c70f8478ce7d",
   "metadata": {},
   "outputs": [],
   "source": [
    "sentences  = nltk.sent_tokenize(sample_text)"
   ]
  },
  {
   "cell_type": "code",
   "execution_count": 6,
   "id": "fe4897dd-4edf-4d35-82c8-7af506232cd6",
   "metadata": {},
   "outputs": [
    {
     "data": {
      "text/plain": [
       "['Lorem Ipsum is simply dummy text of the printing and typesetting industry.',\n",
       " \"Lorem Ipsum has been the industry's standard dummy text ever since the 1500s,when an unknown printer took a galley of type and scrambled it to make a type specimen book.\",\n",
       " 'It has survived not only five centuries, but also the leap into electronic typesetting, remaining essentially unchanged.',\n",
       " 'It was popularised in the 1960s with the release of Letraset sheets containing Lorem Ipsum passages, \\nmore recently with desktop publishing software like Aldus PageMaker including versions of Lorem Ipsum.']"
      ]
     },
     "execution_count": 6,
     "metadata": {},
     "output_type": "execute_result"
    }
   ],
   "source": [
    "sentences "
   ]
  },
  {
   "cell_type": "code",
   "execution_count": 7,
   "id": "086623b1-3cea-4b5a-894b-cb96eda68b8c",
   "metadata": {},
   "outputs": [],
   "source": [
    "words = nltk.word_tokenize(sample_text)"
   ]
  },
  {
   "cell_type": "code",
   "execution_count": 8,
   "id": "0abf38bf-20bf-4ef3-8296-1d61eaf6c2c0",
   "metadata": {},
   "outputs": [
    {
     "data": {
      "text/plain": [
       "['Lorem',\n",
       " 'Ipsum',\n",
       " 'is',\n",
       " 'simply',\n",
       " 'dummy',\n",
       " 'text',\n",
       " 'of',\n",
       " 'the',\n",
       " 'printing',\n",
       " 'and',\n",
       " 'typesetting',\n",
       " 'industry',\n",
       " '.',\n",
       " 'Lorem',\n",
       " 'Ipsum',\n",
       " 'has',\n",
       " 'been',\n",
       " 'the',\n",
       " 'industry',\n",
       " \"'s\",\n",
       " 'standard',\n",
       " 'dummy',\n",
       " 'text',\n",
       " 'ever',\n",
       " 'since',\n",
       " 'the',\n",
       " '1500s',\n",
       " ',',\n",
       " 'when',\n",
       " 'an',\n",
       " 'unknown',\n",
       " 'printer',\n",
       " 'took',\n",
       " 'a',\n",
       " 'galley',\n",
       " 'of',\n",
       " 'type',\n",
       " 'and',\n",
       " 'scrambled',\n",
       " 'it',\n",
       " 'to',\n",
       " 'make',\n",
       " 'a',\n",
       " 'type',\n",
       " 'specimen',\n",
       " 'book',\n",
       " '.',\n",
       " 'It',\n",
       " 'has',\n",
       " 'survived',\n",
       " 'not',\n",
       " 'only',\n",
       " 'five',\n",
       " 'centuries',\n",
       " ',',\n",
       " 'but',\n",
       " 'also',\n",
       " 'the',\n",
       " 'leap',\n",
       " 'into',\n",
       " 'electronic',\n",
       " 'typesetting',\n",
       " ',',\n",
       " 'remaining',\n",
       " 'essentially',\n",
       " 'unchanged',\n",
       " '.',\n",
       " 'It',\n",
       " 'was',\n",
       " 'popularised',\n",
       " 'in',\n",
       " 'the',\n",
       " '1960s',\n",
       " 'with',\n",
       " 'the',\n",
       " 'release',\n",
       " 'of',\n",
       " 'Letraset',\n",
       " 'sheets',\n",
       " 'containing',\n",
       " 'Lorem',\n",
       " 'Ipsum',\n",
       " 'passages',\n",
       " ',',\n",
       " 'more',\n",
       " 'recently',\n",
       " 'with',\n",
       " 'desktop',\n",
       " 'publishing',\n",
       " 'software',\n",
       " 'like',\n",
       " 'Aldus',\n",
       " 'PageMaker',\n",
       " 'including',\n",
       " 'versions',\n",
       " 'of',\n",
       " 'Lorem',\n",
       " 'Ipsum',\n",
       " '.']"
      ]
     },
     "execution_count": 8,
     "metadata": {},
     "output_type": "execute_result"
    }
   ],
   "source": [
    "words"
   ]
  },
  {
   "cell_type": "markdown",
   "id": "a619d850-5d00-4c6e-acff-9b41756ed0fe",
   "metadata": {},
   "source": [
    "#### In Persian"
   ]
  },
  {
   "cell_type": "code",
   "execution_count": 9,
   "id": "e3f349cb-97c9-42e5-b02a-dc0596963a8d",
   "metadata": {},
   "outputs": [],
   "source": [
    "import hazm"
   ]
  },
  {
   "cell_type": "code",
   "execution_count": 10,
   "id": "3790aad4-96c8-4fcc-87f5-fcb601530584",
   "metadata": {},
   "outputs": [],
   "source": [
    "sample_persian = '''لورم ایپسوم متن ساختگی با تولید سادگی نامفهوم از صنعت چاپ و با استفاده از طراحان گرافیک است.\n",
    "چاپگرها و متون بلکه روزنامه و مجله در ستون و سطرآنچنان که لازم است و برای شرایط فعلی تکنولوژی مورد نیاز و کاربردهای متنوع با هدف بهبود ابزارهای کاربردی می باشد.\n",
    "کتابهای زیادی در شصت و سه درصد گذشته، حال و آینده شناخت فراوان جامعه و متخصصان را می طلبد تا با نرم افزارها شناخت بیشتری را برای طراحان رایانه ای علی الخصوص طراحان خلاقی و فرهنگ پیشرو در زبان فارسی ایجاد کرد.\n",
    "در این صورت می توان امید داشت که تمام و دشواری موجود در ارائه راهکارها و شرایط سخت تایپ به پایان رسد وزمان مورد نیاز شامل حروفچینی دستاوردهای اصلی و جوابگوی سوالات پیوسته اهل دنیای م'''"
   ]
  },
  {
   "cell_type": "code",
   "execution_count": 12,
   "id": "6304eeba-afe7-45c8-bd44-f9f8abcd0ce9",
   "metadata": {},
   "outputs": [
    {
     "data": {
      "text/plain": [
       "['لورم ایپسوم متن ساختگی با تولید سادگی نامفهوم از صنعت چاپ و با استفاده از طراحان گرافیک است.',\n",
       " 'چاپگرها و متون بلکه روزنامه و مجله در ستون و سطرآنچنان که لازم است و برای شرایط فعلی تکنولوژی مورد نیاز و کاربردهای متنوع با هدف بهبود ابزارهای کاربردی می باشد.',\n",
       " 'کتابهای زیادی در شصت و سه درصد گذشته، حال و آینده شناخت فراوان جامعه و متخصصان را می طلبد تا با نرم افزارها شناخت بیشتری را برای طراحان رایانه ای علی الخصوص طراحان خلاقی و فرهنگ پیشرو در زبان فارسی ایجاد کرد.',\n",
       " 'در این صورت می توان امید داشت که تمام و دشواری موجود در ارائه راهکارها و شرایط سخت تایپ به پایان رسد وزمان مورد نیاز شامل حروفچینی دستاوردهای اصلی و جوابگوی سوالات پیوسته اهل دنیای م']"
      ]
     },
     "execution_count": 12,
     "metadata": {},
     "output_type": "execute_result"
    }
   ],
   "source": [
    "hazm.sent_tokenize(sample_persian)"
   ]
  },
  {
   "cell_type": "code",
   "execution_count": 13,
   "id": "84e778b3-03bd-43ad-a052-b4f42faec5b9",
   "metadata": {},
   "outputs": [
    {
     "data": {
      "text/plain": [
       "['لورم',\n",
       " 'ایپسوم',\n",
       " 'متن',\n",
       " 'ساختگی',\n",
       " 'با',\n",
       " 'تولید',\n",
       " 'سادگی',\n",
       " 'نامفهوم',\n",
       " 'از',\n",
       " 'صنعت',\n",
       " 'چاپ',\n",
       " 'و',\n",
       " 'با',\n",
       " 'استفاده',\n",
       " 'از',\n",
       " 'طراحان',\n",
       " 'گرافیک',\n",
       " 'است',\n",
       " '.',\n",
       " 'چاپگرها',\n",
       " 'و',\n",
       " 'متون',\n",
       " 'بلکه',\n",
       " 'روزنامه',\n",
       " 'و',\n",
       " 'مجله',\n",
       " 'در',\n",
       " 'ستون',\n",
       " 'و',\n",
       " 'سطرآنچنان',\n",
       " 'که',\n",
       " 'لازم',\n",
       " 'است',\n",
       " 'و',\n",
       " 'برای',\n",
       " 'شرایط',\n",
       " 'فعلی',\n",
       " 'تکنولوژی',\n",
       " 'مورد',\n",
       " 'نیاز',\n",
       " 'و',\n",
       " 'کاربردهای',\n",
       " 'متنوع',\n",
       " 'با',\n",
       " 'هدف',\n",
       " 'بهبود',\n",
       " 'ابزارهای',\n",
       " 'کاربردی',\n",
       " 'می',\n",
       " 'باشد',\n",
       " '.',\n",
       " 'کتابهای',\n",
       " 'زیادی',\n",
       " 'در',\n",
       " 'شصت',\n",
       " 'و',\n",
       " 'سه',\n",
       " 'درصد',\n",
       " 'گذشته',\n",
       " '،',\n",
       " 'حال',\n",
       " 'و',\n",
       " 'آینده',\n",
       " 'شناخت',\n",
       " 'فراوان',\n",
       " 'جامعه',\n",
       " 'و',\n",
       " 'متخصصان',\n",
       " 'را',\n",
       " 'می',\n",
       " 'طلبد',\n",
       " 'تا',\n",
       " 'با',\n",
       " 'نرم',\n",
       " 'افزارها',\n",
       " 'شناخت',\n",
       " 'بیشتری',\n",
       " 'را',\n",
       " 'برای',\n",
       " 'طراحان',\n",
       " 'رایانه',\n",
       " 'ای',\n",
       " 'علی',\n",
       " 'الخصوص',\n",
       " 'طراحان',\n",
       " 'خلاقی',\n",
       " 'و',\n",
       " 'فرهنگ',\n",
       " 'پیشرو',\n",
       " 'در',\n",
       " 'زبان',\n",
       " 'فارسی',\n",
       " 'ایجاد',\n",
       " 'کرد',\n",
       " '.',\n",
       " 'در',\n",
       " 'این',\n",
       " 'صورت',\n",
       " 'می',\n",
       " 'توان',\n",
       " 'امید',\n",
       " 'داشت',\n",
       " 'که',\n",
       " 'تمام',\n",
       " 'و',\n",
       " 'دشواری',\n",
       " 'موجود',\n",
       " 'در',\n",
       " 'ارائه',\n",
       " 'راهکارها',\n",
       " 'و',\n",
       " 'شرایط',\n",
       " 'سخت',\n",
       " 'تایپ',\n",
       " 'به',\n",
       " 'پایان',\n",
       " 'رسد',\n",
       " 'وزمان',\n",
       " 'مورد',\n",
       " 'نیاز',\n",
       " 'شامل',\n",
       " 'حروفچینی',\n",
       " 'دستاوردهای',\n",
       " 'اصلی',\n",
       " 'و',\n",
       " 'جوابگوی',\n",
       " 'سوالات',\n",
       " 'پیوسته',\n",
       " 'اهل',\n",
       " 'دنیای',\n",
       " 'م']"
      ]
     },
     "execution_count": 13,
     "metadata": {},
     "output_type": "execute_result"
    }
   ],
   "source": [
    "hazm.word_tokenize(sample_persian)"
   ]
  },
  {
   "cell_type": "code",
   "execution_count": 15,
   "id": "b6309c52-4376-4765-82ce-28665c3e67d8",
   "metadata": {},
   "outputs": [],
   "source": [
    "text= 'من با دقّت آموزش ها را می بینم'"
   ]
  },
  {
   "cell_type": "code",
   "execution_count": 17,
   "id": "cc833e59-73ac-48bf-bd77-d517d2a2a611",
   "metadata": {},
   "outputs": [
    {
     "data": {
      "text/plain": [
       "['من', 'با', 'دقّت', 'آموزش', 'ها', 'را', 'می', 'بینم']"
      ]
     },
     "execution_count": 17,
     "metadata": {},
     "output_type": "execute_result"
    }
   ],
   "source": [
    "hazm.word_tokenize(text)"
   ]
  },
  {
   "cell_type": "code",
   "execution_count": 19,
   "id": "76444a17-89ed-4725-8338-1b196e1798d5",
   "metadata": {},
   "outputs": [],
   "source": [
    "normalize = hazm.Normalizer()"
   ]
  },
  {
   "cell_type": "code",
   "execution_count": 21,
   "id": "0a3e1e13-4d07-4880-9633-0594e0136510",
   "metadata": {},
   "outputs": [
    {
     "data": {
      "text/plain": [
       "'من با دقت آموزش\\u200cها را می\\u200cبینم'"
      ]
     },
     "execution_count": 21,
     "metadata": {},
     "output_type": "execute_result"
    }
   ],
   "source": [
    "normalize.normalize(text)"
   ]
  }
 ],
 "metadata": {
  "kernelspec": {
   "display_name": "Python 3 (ipykernel)",
   "language": "python",
   "name": "python3"
  },
  "language_info": {
   "codemirror_mode": {
    "name": "ipython",
    "version": 3
   },
   "file_extension": ".py",
   "mimetype": "text/x-python",
   "name": "python",
   "nbconvert_exporter": "python",
   "pygments_lexer": "ipython3",
   "version": "3.11.5"
  }
 },
 "nbformat": 4,
 "nbformat_minor": 5
}
