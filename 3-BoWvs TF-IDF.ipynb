{
 "cells": [
  {
   "cell_type": "markdown",
   "id": "08c09198-d61c-4d6c-ab93-1bf8b9db498b",
   "metadata": {},
   "source": [
    "#### Third Session: BoW vs TF-IDF"
   ]
  },
  {
   "cell_type": "code",
   "execution_count": 43,
   "id": "73b5ef08-9cab-42f5-b40f-9af310b5d47b",
   "metadata": {},
   "outputs": [],
   "source": [
    "from nltk import sent_tokenize\n",
    "import re\n",
    "from nltk.corpus import stopwords\n",
    "from nltk.stem import PorterStemmer\n",
    "from sklearn.feature_extraction.text import CountVectorizer\n",
    "from sklearn.feature_extraction.text import TfidfVectorizer\n"
   ]
  },
  {
   "cell_type": "code",
   "execution_count": 11,
   "id": "5decc530-7701-44cb-8824-554c76041808",
   "metadata": {},
   "outputs": [],
   "source": [
    "text = \"\"\"A major drawback of statistical methods is that they require elaborate feature engineering. \n",
    "Since the early 2010s, the field has thus largely abandoned statistical methods and shifted to neural networks for machine learning. \n",
    "Popular techniques include the use of word embeddings to capture semantic properties of words, and an increase in end-to-end learning of a higher-level task (e.g., question answering) instead of relying on a pipeline of separate intermediate tasks (e.g., part-of-speech tagging and dependency parsing).\n",
    "In some areas, this shift has entailed substantial changes in how NLP systems are designed, such that deep neural network-based approaches may be viewed as a new paradigm distinct from statistical natural language processing. \n",
    "For instance, the term neural machine translation (NMT) emphasizes the fact that deep learning-based approaches to machine translation directly learn sequence-to-sequence transformations, obviating the need for intermediate steps such as word alignment and language modeling that was used in statistical machine translation (SMT). \n",
    "Latest works tend to use non-technical structure of a given task to build proper neural network\n",
    "\"\"\""
   ]
  },
  {
   "cell_type": "markdown",
   "id": "c7003c33-879f-40b8-9982-0ee5c27875b4",
   "metadata": {},
   "source": [
    "##### Cleaning Text"
   ]
  },
  {
   "cell_type": "code",
   "execution_count": 12,
   "id": "6797cd2b-9b07-4746-bde0-fa1a48e44fec",
   "metadata": {},
   "outputs": [],
   "source": [
    "sents = sent_tokenize(text)"
   ]
  },
  {
   "cell_type": "code",
   "execution_count": 13,
   "id": "a5e06197-362f-4c8c-9a0d-0308c2b24a83",
   "metadata": {},
   "outputs": [
    {
     "data": {
      "text/plain": [
       "['A major drawback of statistical methods is that they require elaborate feature engineering.',\n",
       " 'Since the early 2010s, the field has thus largely abandoned statistical methods and shifted to neural networks for machine learning.',\n",
       " 'Popular techniques include the use of word embeddings to capture semantic properties of words, and an increase in end-to-end learning of a higher-level task (e.g., question answering) instead of relying on a pipeline of separate intermediate tasks (e.g., part-of-speech tagging and dependency parsing).',\n",
       " 'In some areas, this shift has entailed substantial changes in how NLP systems are designed, such that deep neural network-based approaches may be viewed as a new paradigm distinct from statistical natural language processing.',\n",
       " 'For instance, the term neural machine translation (NMT) emphasizes the fact that deep learning-based approaches to machine translation directly learn sequence-to-sequence transformations, obviating the need for intermediate steps such as word alignment and language modeling that was used in statistical machine translation (SMT).',\n",
       " 'Latest works tend to use non-technical structure of a given task to build proper neural network']"
      ]
     },
     "execution_count": 13,
     "metadata": {},
     "output_type": "execute_result"
    }
   ],
   "source": [
    "sents"
   ]
  },
  {
   "cell_type": "code",
   "execution_count": 21,
   "id": "6ac53d99-f1b9-4915-b937-481e81bf6ef9",
   "metadata": {},
   "outputs": [],
   "source": [
    "stemmer = PorterStemmer()"
   ]
  },
  {
   "cell_type": "code",
   "execution_count": 28,
   "id": "bd454e54-1cf7-4c40-9e03-949924e0f76c",
   "metadata": {},
   "outputs": [],
   "source": [
    "corpus = []"
   ]
  },
  {
   "cell_type": "code",
   "execution_count": 29,
   "id": "439e2a97-5032-4796-bb59-9f5898651d44",
   "metadata": {},
   "outputs": [
    {
     "name": "stdout",
     "output_type": "stream",
     "text": [
      "major drawback statist method requir elabor featur engineering.\n",
      "\n",
      "\n",
      "sinc earli 2010s, field thu larg abandon statist method shift neural network machin learning.\n",
      "\n",
      "\n",
      "popular techniqu includ use word embed captur semant properti words, increas end-to-end learn higher-level task (e.g., question answering) instead reli pipelin separ intermedi task (e.g., part-of-speech tag depend parsing).\n",
      "\n",
      "\n",
      "areas, shift entail substanti chang nlp system designed, deep neural network-bas approach may view new paradigm distinct statist natur languag processing.\n",
      "\n",
      "\n",
      "instance, term neural machin translat (nmt) emphas fact deep learning-bas approach machin translat directli learn sequence-to-sequ transformations, obviat need intermedi step word align languag model use statist machin translat (smt).\n",
      "\n",
      "\n",
      "latest work tend use non-techn structur given task build proper neural network\n",
      "\n",
      "\n"
     ]
    }
   ],
   "source": [
    "for sent in sents:\n",
    "    review = re.sub('[^a-zA_Z]', \" \", sent)\n",
    "    review = re.sub('\\b[a-zA-Z]\\b', \" \", sent)\n",
    "    review = review.lower()\n",
    "    review = review.split()\n",
    "    review = [stemmer.stem(word) for word in review if not word in set(stopwords.words('english'))]\n",
    "    review = \" \".join(review)\n",
    "    print(review)\n",
    "    corpus.append(review)\n",
    "    print('\\n')"
   ]
  },
  {
   "cell_type": "code",
   "execution_count": 30,
   "id": "bcc0309d-149a-47b6-b331-d44e0f21de30",
   "metadata": {},
   "outputs": [
    {
     "data": {
      "text/plain": [
       "['major drawback statist method requir elabor featur engineering.',\n",
       " 'sinc earli 2010s, field thu larg abandon statist method shift neural network machin learning.',\n",
       " 'popular techniqu includ use word embed captur semant properti words, increas end-to-end learn higher-level task (e.g., question answering) instead reli pipelin separ intermedi task (e.g., part-of-speech tag depend parsing).',\n",
       " 'areas, shift entail substanti chang nlp system designed, deep neural network-bas approach may view new paradigm distinct statist natur languag processing.',\n",
       " 'instance, term neural machin translat (nmt) emphas fact deep learning-bas approach machin translat directli learn sequence-to-sequ transformations, obviat need intermedi step word align languag model use statist machin translat (smt).',\n",
       " 'latest work tend use non-techn structur given task build proper neural network']"
      ]
     },
     "execution_count": 30,
     "metadata": {},
     "output_type": "execute_result"
    }
   ],
   "source": [
    "corpus"
   ]
  },
  {
   "cell_type": "markdown",
   "id": "35676582-081f-4484-8138-c69d499e7b21",
   "metadata": {},
   "source": [
    "##### Vectorization"
   ]
  },
  {
   "cell_type": "code",
   "execution_count": 35,
   "id": "aae3f075-0a9e-482e-8855-f9fc5db57a4a",
   "metadata": {},
   "outputs": [],
   "source": [
    "cv = CountVectorizer()"
   ]
  },
  {
   "cell_type": "code",
   "execution_count": 37,
   "id": "d3e56756-e91c-44b8-9cdf-d187ed614262",
   "metadata": {},
   "outputs": [],
   "source": [
    "bow = cv.fit_transform(corpus)"
   ]
  },
  {
   "cell_type": "code",
   "execution_count": 51,
   "id": "7c0eec06-6029-441b-9a09-6613e8e92278",
   "metadata": {},
   "outputs": [
    {
     "name": "stdout",
     "output_type": "stream",
     "text": [
      "  (0, 40)\t1\n",
      "  (0, 15)\t1\n",
      "  (0, 73)\t1\n",
      "  (0, 42)\t1\n",
      "  (0, 64)\t1\n",
      "  (0, 17)\t1\n",
      "  (0, 24)\t1\n",
      "  (0, 21)\t1\n",
      "  (1, 73)\t1\n",
      "  (1, 42)\t1\n",
      "  (1, 70)\t1\n",
      "  (1, 16)\t1\n",
      "  (1, 0)\t1\n",
      "  (1, 25)\t1\n",
      "  (1, 84)\t1\n",
      "  (1, 34)\t1\n",
      "  (1, 1)\t1\n",
      "  (1, 69)\t1\n",
      "  (1, 47)\t1\n",
      "  (1, 46)\t1\n",
      "  (1, 39)\t1\n",
      "  (1, 37)\t1\n",
      "  (2, 58)\t1\n",
      "  (2, 81)\t1\n",
      "  (2, 28)\t1\n",
      "  :\t:\n",
      "  (4, 19)\t1\n",
      "  (4, 23)\t1\n",
      "  (4, 13)\t1\n",
      "  (4, 68)\t1\n",
      "  (4, 67)\t1\n",
      "  (4, 86)\t1\n",
      "  (4, 52)\t1\n",
      "  (4, 45)\t1\n",
      "  (4, 74)\t1\n",
      "  (4, 2)\t1\n",
      "  (4, 43)\t1\n",
      "  (4, 71)\t1\n",
      "  (5, 47)\t1\n",
      "  (5, 46)\t1\n",
      "  (5, 88)\t1\n",
      "  (5, 79)\t1\n",
      "  (5, 35)\t1\n",
      "  (5, 92)\t1\n",
      "  (5, 82)\t1\n",
      "  (5, 51)\t1\n",
      "  (5, 80)\t1\n",
      "  (5, 75)\t1\n",
      "  (5, 26)\t1\n",
      "  (5, 7)\t1\n",
      "  (5, 60)\t1\n"
     ]
    }
   ],
   "source": [
    "print(bow)"
   ]
  },
  {
   "cell_type": "code",
   "execution_count": 52,
   "id": "c20a2733-3800-463b-b33d-1e731dca16d4",
   "metadata": {},
   "outputs": [],
   "source": [
    "tf = TfidfVectorizer()"
   ]
  },
  {
   "cell_type": "code",
   "execution_count": 53,
   "id": "93bf9dec-849d-4820-9b80-88e367215d6a",
   "metadata": {},
   "outputs": [],
   "source": [
    "tfidf = tf.fit_transform(corpus).toarray()"
   ]
  },
  {
   "cell_type": "code",
   "execution_count": 54,
   "id": "1093dc3c-1d67-4a74-9f05-f000f7cd5049",
   "metadata": {},
   "outputs": [
    {
     "name": "stdout",
     "output_type": "stream",
     "text": [
      "[[0.         0.         0.         0.         0.         0.\n",
      "  0.         0.         0.         0.         0.         0.\n",
      "  0.         0.         0.         0.37730799 0.         0.37730799\n",
      "  0.         0.         0.         0.37730799 0.         0.\n",
      "  0.37730799 0.         0.         0.         0.         0.\n",
      "  0.         0.         0.         0.         0.         0.\n",
      "  0.         0.         0.         0.         0.37730799 0.\n",
      "  0.30939795 0.         0.         0.         0.         0.\n",
      "  0.         0.         0.         0.         0.         0.\n",
      "  0.         0.         0.         0.         0.         0.\n",
      "  0.         0.         0.         0.         0.37730799 0.\n",
      "  0.         0.         0.         0.         0.         0.\n",
      "  0.         0.22384142 0.         0.         0.         0.\n",
      "  0.         0.         0.         0.         0.         0.\n",
      "  0.         0.         0.         0.         0.         0.\n",
      "  0.         0.         0.        ]\n",
      " [0.30326846 0.30326846 0.         0.         0.         0.\n",
      "  0.         0.         0.         0.         0.         0.\n",
      "  0.         0.         0.         0.         0.30326846 0.\n",
      "  0.         0.         0.         0.         0.         0.\n",
      "  0.         0.30326846 0.         0.         0.         0.\n",
      "  0.         0.         0.         0.         0.30326846 0.\n",
      "  0.         0.24868447 0.         0.24868447 0.         0.\n",
      "  0.24868447 0.         0.         0.         0.20995652 0.17991679\n",
      "  0.         0.         0.         0.         0.         0.\n",
      "  0.         0.         0.         0.         0.         0.\n",
      "  0.         0.         0.         0.         0.         0.\n",
      "  0.         0.         0.         0.24868447 0.30326846 0.\n",
      "  0.         0.17991679 0.         0.         0.         0.\n",
      "  0.         0.         0.         0.         0.         0.\n",
      "  0.30326846 0.         0.         0.         0.         0.\n",
      "  0.         0.         0.        ]\n",
      " [0.         0.         0.         0.17445158 0.         0.\n",
      "  0.         0.         0.17445158 0.         0.         0.17445158\n",
      "  0.         0.         0.         0.         0.         0.\n",
      "  0.17445158 0.         0.34890317 0.         0.         0.\n",
      "  0.         0.         0.         0.17445158 0.17445158 0.17445158\n",
      "  0.         0.17445158 0.14305279 0.         0.         0.\n",
      "  0.14305279 0.         0.17445158 0.         0.         0.\n",
      "  0.         0.         0.         0.         0.         0.\n",
      "  0.         0.         0.         0.         0.         0.17445158\n",
      "  0.         0.17445158 0.17445158 0.17445158 0.17445158 0.\n",
      "  0.         0.17445158 0.17445158 0.17445158 0.         0.17445158\n",
      "  0.17445158 0.         0.         0.         0.         0.\n",
      "  0.17445158 0.         0.         0.         0.         0.\n",
      "  0.17445158 0.28610559 0.         0.17445158 0.         0.\n",
      "  0.         0.14305279 0.         0.         0.120775   0.\n",
      "  0.14305279 0.17445158 0.        ]\n",
      " [0.         0.         0.         0.         0.19041633 0.23221098\n",
      "  0.19041633 0.         0.         0.23221098 0.19041633 0.\n",
      "  0.23221098 0.         0.23221098 0.         0.         0.\n",
      "  0.         0.         0.         0.         0.23221098 0.\n",
      "  0.         0.         0.         0.         0.         0.\n",
      "  0.         0.         0.         0.19041633 0.         0.\n",
      "  0.         0.         0.         0.         0.         0.23221098\n",
      "  0.         0.         0.23221098 0.         0.16076255 0.13776129\n",
      "  0.23221098 0.23221098 0.         0.         0.         0.\n",
      "  0.23221098 0.         0.         0.         0.         0.23221098\n",
      "  0.         0.         0.         0.         0.         0.\n",
      "  0.         0.         0.         0.19041633 0.         0.\n",
      "  0.         0.13776129 0.         0.         0.23221098 0.23221098\n",
      "  0.         0.         0.         0.         0.         0.\n",
      "  0.         0.         0.         0.         0.         0.23221098\n",
      "  0.         0.         0.        ]\n",
      " [0.         0.         0.16376544 0.         0.13429    0.\n",
      "  0.13429    0.         0.         0.         0.13429    0.\n",
      "  0.         0.16376544 0.         0.         0.         0.\n",
      "  0.         0.16376544 0.         0.         0.         0.16376544\n",
      "  0.         0.         0.         0.         0.         0.\n",
      "  0.16376544 0.         0.13429    0.13429    0.         0.\n",
      "  0.13429    0.13429    0.         0.40287001 0.         0.\n",
      "  0.         0.16376544 0.         0.16376544 0.         0.09715535\n",
      "  0.         0.         0.16376544 0.         0.16376544 0.\n",
      "  0.         0.         0.         0.         0.         0.\n",
      "  0.         0.         0.         0.         0.         0.\n",
      "  0.         0.16376544 0.16376544 0.         0.         0.16376544\n",
      "  0.         0.09715535 0.16376544 0.         0.         0.\n",
      "  0.         0.         0.         0.         0.         0.16376544\n",
      "  0.         0.13429    0.16376544 0.49129632 0.11337685 0.\n",
      "  0.13429    0.         0.        ]\n",
      " [0.         0.         0.         0.         0.         0.\n",
      "  0.         0.30174497 0.         0.         0.         0.\n",
      "  0.         0.         0.         0.         0.         0.\n",
      "  0.         0.         0.         0.         0.         0.\n",
      "  0.         0.         0.30174497 0.         0.         0.\n",
      "  0.         0.         0.         0.         0.         0.30174497\n",
      "  0.         0.         0.         0.         0.         0.\n",
      "  0.         0.         0.         0.         0.20890179 0.17901297\n",
      "  0.         0.         0.         0.30174497 0.         0.\n",
      "  0.         0.         0.         0.         0.         0.\n",
      "  0.30174497 0.         0.         0.         0.         0.\n",
      "  0.         0.         0.         0.         0.         0.\n",
      "  0.         0.         0.         0.30174497 0.         0.\n",
      "  0.         0.2474352  0.30174497 0.         0.30174497 0.\n",
      "  0.         0.         0.         0.         0.20890179 0.\n",
      "  0.         0.         0.30174497]]\n"
     ]
    }
   ],
   "source": [
    "print(tfidf)"
   ]
  },
  {
   "cell_type": "code",
   "execution_count": null,
   "id": "8eed7b1c-4de8-4c5a-ad3e-136c392567db",
   "metadata": {},
   "outputs": [],
   "source": []
  }
 ],
 "metadata": {
  "kernelspec": {
   "display_name": "Python 3 (ipykernel)",
   "language": "python",
   "name": "python3"
  },
  "language_info": {
   "codemirror_mode": {
    "name": "ipython",
    "version": 3
   },
   "file_extension": ".py",
   "mimetype": "text/x-python",
   "name": "python",
   "nbconvert_exporter": "python",
   "pygments_lexer": "ipython3",
   "version": "3.11.5"
  }
 },
 "nbformat": 4,
 "nbformat_minor": 5
}
